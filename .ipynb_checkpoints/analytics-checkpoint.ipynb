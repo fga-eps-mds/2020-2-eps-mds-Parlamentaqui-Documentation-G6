{
 "cells": [
  {
   "cell_type": "markdown",
   "metadata": {},
   "source": [
    "# Analytics"
   ]
  },
  {
   "cell_type": "markdown",
   "metadata": {},
   "source": [
    "#### Date: 2020/02\n",
    "\n",
    "#### SUMMARY:\n",
    "\n",
    "- This notebook represents the project quality analysis of the date exposed right above. "
   ]
  },
  {
   "cell_type": "markdown",
   "metadata": {},
   "source": [
    "### TEAM:\n",
    "\n",
    "##### Semester: 2020/02\n",
    "##### Professor: Hilmer Neri\n",
    "\n",
    "##### Members:\n",
    "\n",
    "- Member x\n",
    "- Member y"
   ]
  },
  {
   "cell_type": "markdown",
   "metadata": {},
   "source": [
    "### LIBRARIES"
   ]
  },
  {
   "cell_type": "code",
   "execution_count": 155,
   "metadata": {},
   "outputs": [],
   "source": [
    "# Deal with data\n",
    "import pandas as pd\n",
    "import numpy as np\n",
    "import json\n",
    "from glob import glob\n",
    "import os\n",
    "\n",
    "# Deal with API request\n",
    "import urllib3\n",
    "from urllib3 import request\n",
    "\n",
    "# Deal with visualization\n",
    "import seaborn as sns\n",
    "import matplotlib.pyplot as plt"
   ]
  },
  {
   "cell_type": "markdown",
   "metadata": {},
   "source": [
    "### GRAPH SETTINGS"
   ]
  },
  {
   "cell_type": "code",
   "execution_count": 156,
   "metadata": {},
   "outputs": [],
   "source": [
    "# %config InlineBackend.figure_format ='retina'\n",
    "# sns.set(font_scale=1.5)\n",
    "# sns.set_style('darkgrid',\n",
    "#               {'xtick.bottom' : True,\n",
    "#                'ytick.left': True,\n",
    "#                'grid.linestyle':'--',\n",
    "#                'font.monospace': ['Computer Modern Typewriter'],\n",
    "#                'axes.edgecolor' : 'white'})"
   ]
  },
  {
   "cell_type": "markdown",
   "metadata": {},
   "source": [
    "### DATAFRAME SETTINGS"
   ]
  },
  {
   "cell_type": "code",
   "execution_count": 157,
   "metadata": {},
   "outputs": [],
   "source": [
    "pd.set_option(\"display.max_rows\", None, \"display.max_columns\", None)"
   ]
  },
  {
   "cell_type": "markdown",
   "metadata": {},
   "source": [
    "### SonarCloud"
   ]
  },
  {
   "cell_type": "markdown",
   "metadata": {},
   "source": [
    "##### repo names, lenguage and path to the folder with all your jsons"
   ]
  },
  {
   "cell_type": "code",
   "execution_count": 158,
   "metadata": {},
   "outputs": [],
   "source": [
    "repos = ['frontend', 'gateway', 'etl_tse', 'etl_twitter', 'etl_camara', 'etl_news']\n",
    "language = [['frontend', 'js'], \n",
    "            ['gateway', 'py'], \n",
    "            ['etl_tse', 'py'], \n",
    "            ['etl_twitter', 'py'], \n",
    "            ['etl_camara', 'py'], \n",
    "            ['etl_news', 'py']]\n",
    "\n",
    "repos_lenguage = {}\n",
    "\n",
    "for item in language:\n",
    "    repos_lenguage[f\"{item[0]}\"] = item[1]\n",
    "    "
   ]
  },
  {
   "cell_type": "code",
   "execution_count": 159,
   "metadata": {},
   "outputs": [
    {
     "data": {
      "text/plain": [
       "{'frontend': 'js',\n",
       " 'gateway': 'py',\n",
       " 'etl_tse': 'py',\n",
       " 'etl_twitter': 'py',\n",
       " 'etl_camara': 'py',\n",
       " 'etl_news': 'py'}"
      ]
     },
     "execution_count": 159,
     "metadata": {},
     "output_type": "execute_result"
    }
   ],
   "source": [
    "repos_lenguage"
   ]
  },
  {
   "cell_type": "code",
   "execution_count": 160,
   "metadata": {},
   "outputs": [],
   "source": [
    "jsons = glob('analytics-raw-data/*.json') # add the path here"
   ]
  },
  {
   "cell_type": "code",
   "execution_count": 161,
   "metadata": {},
   "outputs": [
    {
     "data": {
      "text/plain": [
       "['analytics-raw-data/fga-eps-mds-2020_2-etl_tse-09-05-2021(2).json',\n",
       " 'analytics-raw-data/fga-eps-mds-2020_2-etl_camara-09-05-2021(2).json',\n",
       " 'analytics-raw-data/fga-eps-mds-2020_2-gateway-04-05-2021.json',\n",
       " 'analytics-raw-data/fga-eps-mds-2020_2-etl_twitter-02-05-2021.json',\n",
       " 'analytics-raw-data/fga-eps-mds-2020_2-etl_news-18-04-2021.json',\n",
       " 'analytics-raw-data/fga-eps-mds-2020_2-etl_camara-09-05-2021.json',\n",
       " 'analytics-raw-data/fga-eps-mds-2020_2-frontend-09-05-2021(2).json',\n",
       " 'analytics-raw-data/fga-eps-mds-2020_2-etl_news-02-05-2021.json',\n",
       " 'analytics-raw-data/fga-eps-mds-2020_2-gateway-10-05-2021(1).json',\n",
       " 'analytics-raw-data/fga-eps-mds-2020_2-frontend-23-03-2021.json',\n",
       " 'analytics-raw-data/fga-eps-mds-2020_2-etl_news-09-05-2021(2).json',\n",
       " 'analytics-raw-data/fga-eps-mds-2020_2-frontend-10-05-2021.json',\n",
       " 'analytics-raw-data/fga-eps-mds-2020_2-etl_twitter-10-05-2021.json',\n",
       " 'analytics-raw-data/fga-eps-mds-2020_2-etl_twitter-04-05-2021.json',\n",
       " 'analytics-raw-data/fga-eps-mds-2020_2-etl_camara-23-03-2021.json',\n",
       " 'analytics-raw-data/fga-eps-mds-2020_2-frontend-09-05-2021.json',\n",
       " 'analytics-raw-data/fga-eps-mds-2020_2-gateway-18-04-2021.json',\n",
       " 'analytics-raw-data/fga-eps-mds-2020_2-gateway-02-05-2021.json',\n",
       " 'analytics-raw-data/fga-eps-mds-2020_2-etl_camara-01-05-2021.json',\n",
       " 'analytics-raw-data/fga-eps-mds-2020_2-etl_news-09-05-2021.json',\n",
       " 'analytics-raw-data/fga-eps-mds-2020_2-etl_news-04-05-2021.json',\n",
       " 'analytics-raw-data/fga-eps-mds-2020_2-etl_twitter-09-05-2021.json',\n",
       " 'analytics-raw-data/fga-eps-mds-2020_2-etl_twitter-10-05-2021(1).json',\n",
       " 'analytics-raw-data/fga-eps-mds-2020_2-etl_tse-04-05-2021.json',\n",
       " 'analytics-raw-data/fga-eps-mds-2020_2-etl_news-10-05-2021(1).json',\n",
       " 'analytics-raw-data/fga-eps-mds-2020_2-etl_news-01-05-2021.json',\n",
       " 'analytics-raw-data/fga-eps-mds-2020_2-frontend-02-05-2021.json',\n",
       " 'analytics-raw-data/fga-eps-mds-2020_2-etl_camara-10-05-2021(1).json',\n",
       " 'analytics-raw-data/fga-eps-mds-2020_2-gateway-09-05-2021(1).json',\n",
       " 'analytics-raw-data/fga-eps-mds-2020_2-etl_tse-09-05-2021(1).json',\n",
       " 'analytics-raw-data/fga-eps-mds-2020_2-gateway-23-03-2021.json',\n",
       " 'analytics-raw-data/fga-eps-mds-2020_2-frontend-10-05-2021(1).json',\n",
       " 'analytics-raw-data/fga-eps-mds-2020_2-frontend-09-05-2021(1).json',\n",
       " 'analytics-raw-data/fga-eps-mds-2020_2-etl_camara-10-05-2021.json',\n",
       " 'analytics-raw-data/fga-eps-mds-2020_2-gateway-09-05-2021(2).json',\n",
       " 'analytics-raw-data/fga-eps-mds-2020_2-etl_camara-02-05-2021.json',\n",
       " 'analytics-raw-data/fga-eps-mds-2020_2-etl_tse-18-04-2021.json',\n",
       " 'analytics-raw-data/fga-eps-mds-2020_2-etl_news-23-03-2021.json',\n",
       " 'analytics-raw-data/fga-eps-mds-2020_2-frontend-18-04-2021.json',\n",
       " 'analytics-raw-data/fga-eps-mds-2020_2-frontend-01-05-2021.json',\n",
       " 'analytics-raw-data/fga-eps-mds-2020_2-etl_twitter-23-03-2021.json',\n",
       " 'analytics-raw-data/fga-eps-mds-2020_2-gateway-01-05-2021.json',\n",
       " 'analytics-raw-data/fga-eps-mds-2020_2-etl_camara-04-05-2021.json',\n",
       " 'analytics-raw-data/fga-eps-mds-2020_2-etl_twitter-18-04-2021.json',\n",
       " 'analytics-raw-data/fga-eps-mds-2020_2-frontend-04-05-2021.json',\n",
       " 'analytics-raw-data/fga-eps-mds-2020_2-etl_tse-23-03-2021.json',\n",
       " 'analytics-raw-data/fga-eps-mds-2020_2-gateway-09-05-2021.json',\n",
       " 'analytics-raw-data/fga-eps-mds-2020_2-etl_tse-09-05-2021.json',\n",
       " 'analytics-raw-data/fga-eps-mds-2020_2-etl_twitter-09-05-2021(1).json',\n",
       " 'analytics-raw-data/fga-eps-mds-2020_2-etl_tse-10-05-2021.json',\n",
       " 'analytics-raw-data/fga-eps-mds-2020_2-etl_twitter-09-05-2021(2).json',\n",
       " 'analytics-raw-data/fga-eps-mds-2020_2-etl_camara-18-04-2021.json',\n",
       " 'analytics-raw-data/fga-eps-mds-2020_2-etl_camara-09-05-2021(1).json',\n",
       " 'analytics-raw-data/fga-eps-mds-2020_2-etl_tse-10-05-2021(1).json',\n",
       " 'analytics-raw-data/fga-eps-mds-2020_2-etl_tse-02-05-2021.json',\n",
       " 'analytics-raw-data/fga-eps-mds-2020_2-gateway-10-05-2021.json',\n",
       " 'analytics-raw-data/fga-eps-mds-2020_2-etl_twitter-01-05-2021.json',\n",
       " 'analytics-raw-data/fga-eps-mds-2020_2-etl_tse-01-05-2021.json',\n",
       " 'analytics-raw-data/fga-eps-mds-2020_2-etl_news-09-05-2021(1).json',\n",
       " 'analytics-raw-data/fga-eps-mds-2020_2-etl_news-10-05-2021.json']"
      ]
     },
     "execution_count": 161,
     "metadata": {},
     "output_type": "execute_result"
    }
   ],
   "source": [
    "jsons"
   ]
  },
  {
   "cell_type": "code",
   "execution_count": 162,
   "metadata": {},
   "outputs": [],
   "source": [
    "def read_json(json_path):\n",
    "    \n",
    "    with open(json_path) as json_file:\n",
    "        json_obj = json.load(json_file)\n",
    "        \n",
    "    return json_obj\n",
    "\n",
    "def create_base_component_df(json_list):\n",
    "    \n",
    "    df = pd.DataFrame()\n",
    "\n",
    "    for i in json_list:\n",
    "\n",
    "        base_component = read_json(i)\n",
    "\n",
    "        base_component_data = base_component['baseComponent']['measures']\n",
    "\n",
    "        base_component_df = pd.DataFrame(base_component_data)\n",
    "\n",
    "        base_component_df['filename'] = os.path.basename(i)\n",
    "\n",
    "        df = df.append(base_component_df, ignore_index=True)\n",
    "        \n",
    "    aux_df = df['filename'].str.split(r\"fga-eps-mds-2020_2-(.*?)-(.*?).json\", expand=True)\n",
    "    \n",
    "    df['repository'] = aux_df[1]\n",
    "    \n",
    "    df['version'] = aux_df[2]\n",
    "    \n",
    "    df = df.sort_values(by=['repository', 'version'])\n",
    "        \n",
    "    return df, repos"
   ]
  },
  {
   "cell_type": "markdown",
   "metadata": {},
   "source": [
    "#### Create base component dataframe and repos list"
   ]
  },
  {
   "cell_type": "code",
   "execution_count": 163,
   "metadata": {},
   "outputs": [],
   "source": [
    "base_component_df, repos = create_base_component_df(jsons)"
   ]
  },
  {
   "cell_type": "code",
   "execution_count": 164,
   "metadata": {},
   "outputs": [
    {
     "data": {
      "text/html": [
       "<div>\n",
       "<style scoped>\n",
       "    .dataframe tbody tr th:only-of-type {\n",
       "        vertical-align: middle;\n",
       "    }\n",
       "\n",
       "    .dataframe tbody tr th {\n",
       "        vertical-align: top;\n",
       "    }\n",
       "\n",
       "    .dataframe thead th {\n",
       "        text-align: right;\n",
       "    }\n",
       "</style>\n",
       "<table border=\"1\" class=\"dataframe\">\n",
       "  <thead>\n",
       "    <tr style=\"text-align: right;\">\n",
       "      <th></th>\n",
       "      <th>metric</th>\n",
       "      <th>value</th>\n",
       "      <th>bestValue</th>\n",
       "      <th>filename</th>\n",
       "      <th>repository</th>\n",
       "      <th>version</th>\n",
       "    </tr>\n",
       "  </thead>\n",
       "  <tbody>\n",
       "    <tr>\n",
       "      <th>161</th>\n",
       "      <td>duplicated_lines_density</td>\n",
       "      <td>0.0</td>\n",
       "      <td>True</td>\n",
       "      <td>fga-eps-mds-2020_2-etl_camara-01-05-2021.json</td>\n",
       "      <td>etl_camara</td>\n",
       "      <td>01-05-2021</td>\n",
       "    </tr>\n",
       "    <tr>\n",
       "      <th>162</th>\n",
       "      <td>functions</td>\n",
       "      <td>30</td>\n",
       "      <td>NaN</td>\n",
       "      <td>fga-eps-mds-2020_2-etl_camara-01-05-2021.json</td>\n",
       "      <td>etl_camara</td>\n",
       "      <td>01-05-2021</td>\n",
       "    </tr>\n",
       "    <tr>\n",
       "      <th>163</th>\n",
       "      <td>security_rating</td>\n",
       "      <td>3.0</td>\n",
       "      <td>False</td>\n",
       "      <td>fga-eps-mds-2020_2-etl_camara-01-05-2021.json</td>\n",
       "      <td>etl_camara</td>\n",
       "      <td>01-05-2021</td>\n",
       "    </tr>\n",
       "    <tr>\n",
       "      <th>164</th>\n",
       "      <td>files</td>\n",
       "      <td>5</td>\n",
       "      <td>NaN</td>\n",
       "      <td>fga-eps-mds-2020_2-etl_camara-01-05-2021.json</td>\n",
       "      <td>etl_camara</td>\n",
       "      <td>01-05-2021</td>\n",
       "    </tr>\n",
       "    <tr>\n",
       "      <th>165</th>\n",
       "      <td>complexity</td>\n",
       "      <td>88</td>\n",
       "      <td>NaN</td>\n",
       "      <td>fga-eps-mds-2020_2-etl_camara-01-05-2021.json</td>\n",
       "      <td>etl_camara</td>\n",
       "      <td>01-05-2021</td>\n",
       "    </tr>\n",
       "    <tr>\n",
       "      <th>166</th>\n",
       "      <td>ncloc</td>\n",
       "      <td>525</td>\n",
       "      <td>NaN</td>\n",
       "      <td>fga-eps-mds-2020_2-etl_camara-01-05-2021.json</td>\n",
       "      <td>etl_camara</td>\n",
       "      <td>01-05-2021</td>\n",
       "    </tr>\n",
       "    <tr>\n",
       "      <th>167</th>\n",
       "      <td>coverage</td>\n",
       "      <td>0.0</td>\n",
       "      <td>False</td>\n",
       "      <td>fga-eps-mds-2020_2-etl_camara-01-05-2021.json</td>\n",
       "      <td>etl_camara</td>\n",
       "      <td>01-05-2021</td>\n",
       "    </tr>\n",
       "    <tr>\n",
       "      <th>168</th>\n",
       "      <td>reliability_rating</td>\n",
       "      <td>1.0</td>\n",
       "      <td>True</td>\n",
       "      <td>fga-eps-mds-2020_2-etl_camara-01-05-2021.json</td>\n",
       "      <td>etl_camara</td>\n",
       "      <td>01-05-2021</td>\n",
       "    </tr>\n",
       "    <tr>\n",
       "      <th>169</th>\n",
       "      <td>comment_lines_density</td>\n",
       "      <td>9.2</td>\n",
       "      <td>False</td>\n",
       "      <td>fga-eps-mds-2020_2-etl_camara-01-05-2021.json</td>\n",
       "      <td>etl_camara</td>\n",
       "      <td>01-05-2021</td>\n",
       "    </tr>\n",
       "    <tr>\n",
       "      <th>312</th>\n",
       "      <td>duplicated_lines_density</td>\n",
       "      <td>0.0</td>\n",
       "      <td>True</td>\n",
       "      <td>fga-eps-mds-2020_2-etl_camara-02-05-2021.json</td>\n",
       "      <td>etl_camara</td>\n",
       "      <td>02-05-2021</td>\n",
       "    </tr>\n",
       "  </tbody>\n",
       "</table>\n",
       "</div>"
      ],
      "text/plain": [
       "                       metric value bestValue  \\\n",
       "161  duplicated_lines_density   0.0      True   \n",
       "162                 functions    30       NaN   \n",
       "163           security_rating   3.0     False   \n",
       "164                     files     5       NaN   \n",
       "165                complexity    88       NaN   \n",
       "166                     ncloc   525       NaN   \n",
       "167                  coverage   0.0     False   \n",
       "168        reliability_rating   1.0      True   \n",
       "169     comment_lines_density   9.2     False   \n",
       "312  duplicated_lines_density   0.0      True   \n",
       "\n",
       "                                          filename  repository     version  \n",
       "161  fga-eps-mds-2020_2-etl_camara-01-05-2021.json  etl_camara  01-05-2021  \n",
       "162  fga-eps-mds-2020_2-etl_camara-01-05-2021.json  etl_camara  01-05-2021  \n",
       "163  fga-eps-mds-2020_2-etl_camara-01-05-2021.json  etl_camara  01-05-2021  \n",
       "164  fga-eps-mds-2020_2-etl_camara-01-05-2021.json  etl_camara  01-05-2021  \n",
       "165  fga-eps-mds-2020_2-etl_camara-01-05-2021.json  etl_camara  01-05-2021  \n",
       "166  fga-eps-mds-2020_2-etl_camara-01-05-2021.json  etl_camara  01-05-2021  \n",
       "167  fga-eps-mds-2020_2-etl_camara-01-05-2021.json  etl_camara  01-05-2021  \n",
       "168  fga-eps-mds-2020_2-etl_camara-01-05-2021.json  etl_camara  01-05-2021  \n",
       "169  fga-eps-mds-2020_2-etl_camara-01-05-2021.json  etl_camara  01-05-2021  \n",
       "312  fga-eps-mds-2020_2-etl_camara-02-05-2021.json  etl_camara  02-05-2021  "
      ]
     },
     "execution_count": 164,
     "metadata": {},
     "output_type": "execute_result"
    }
   ],
   "source": [
    "base_component_df.head(10)"
   ]
  },
  {
   "cell_type": "markdown",
   "metadata": {},
   "source": [
    "#### Create dataframe per file"
   ]
  },
  {
   "cell_type": "code",
   "execution_count": 165,
   "metadata": {},
   "outputs": [
    {
     "data": {
      "text/plain": [
       "12"
      ]
     },
     "execution_count": 165,
     "metadata": {},
     "output_type": "execute_result"
    }
   ],
   "source": [
    "metric_list = ['files',\n",
    "               'functions',\n",
    "               'complexity',\n",
    "               'comment_lines_density',\n",
    "               'duplicated_lines_density',\n",
    "               'coverage',\n",
    "               'ncloc',\n",
    "               'security_rating',\n",
    "               'tests',\n",
    "               'test_success_density',\n",
    "               'test_execution_time',\n",
    "               'reliability_rating']\n",
    "\n",
    "len(metric_list)"
   ]
  },
  {
   "cell_type": "code",
   "execution_count": 166,
   "metadata": {},
   "outputs": [],
   "source": [
    "def metric_per_file(json):\n",
    "    \n",
    "    file_json = []\n",
    "    \n",
    "    for component in json['components']:\n",
    "        if component['qualifier'] == 'FIL':\n",
    "            file_json.append(component)\n",
    "            \n",
    "    return file_json"
   ]
  },
  {
   "cell_type": "code",
   "execution_count": 167,
   "metadata": {},
   "outputs": [],
   "source": [
    "def generate_file_dataframe_per_release(metric_list, json, language_extension):\n",
    "    \n",
    "    df_columns = metric_list\n",
    "    df = pd.DataFrame(columns = df_columns)\n",
    "    \n",
    "    for file in json:\n",
    "        try:\n",
    "            if file['language'] == language_extension:\n",
    "                for measure in file['measures']:\n",
    "                    df.at[file['path'], measure['metric']] = measure['value']\n",
    "        except:\n",
    "            pass\n",
    "        \n",
    "    df.reset_index(inplace = True)\n",
    "    df = df.rename({'index': 'path'}, axis=1).drop(['files'], axis=1)\n",
    "\n",
    "    return df"
   ]
  },
  {
   "cell_type": "code",
   "execution_count": 168,
   "metadata": {},
   "outputs": [],
   "source": [
    "def create_file_df(json_list):\n",
    "    \n",
    "    df = pd.DataFrame()\n",
    "\n",
    "    for i in json_list:\n",
    "\n",
    "        file_component = read_json(i)\n",
    "        file_component_data = metric_per_file(file_component)\n",
    "        file_name = os.path.basename(i)\n",
    "        file_repository =  = file_name.split(r\"fga-eps-mds-2020_2-(.*?)-(.*?).json\")[0]\n",
    "        file_version = file_name.split(r\"fga-eps-mds-2020_2-(.*?)-(.*?).json\")[1]\n",
    "        file_lenguage = repos_lenguage[f\"{files_repository}\"]\n",
    "        \n",
    "        file_component_df = generate_file_dataframe_per_release(metric_list, \n",
    "                                                                file_component_data,\n",
    "                                                                language_extension = file_lenguage)\n",
    "        file_component_df['filename'] = file_name\n",
    "\n",
    "        df = df.append(file_component_df, ignore_index=True)\n",
    "        \n",
    "    # replace TeamName by yours.    \n",
    "    aux_df = df['filename'].str.split(r\"TeamName-(.*?)-date_(.*?).json\", expand=True)\n",
    "    \n",
    "    df['repository'] = aux_df[1]\n",
    "    \n",
    "    df['version'] = aux_df[2]\n",
    "    \n",
    "    df = df.sort_values(by=['repository', 'version'])\n",
    "        \n",
    "    return df"
   ]
  },
  {
   "cell_type": "code",
   "execution_count": 169,
   "metadata": {},
   "outputs": [
    {
     "ename": "ValueError",
     "evalue": "not enough values to unpack (expected 2, got 1)",
     "output_type": "error",
     "traceback": [
      "\u001b[0;31m---------------------------------------------------------------------------\u001b[0m",
      "\u001b[0;31mValueError\u001b[0m                                Traceback (most recent call last)",
      "\u001b[0;32m<ipython-input-169-a9fe867c936f>\u001b[0m in \u001b[0;36m<module>\u001b[0;34m\u001b[0m\n\u001b[0;32m----> 1\u001b[0;31m \u001b[0mfile_component_df\u001b[0m \u001b[0;34m=\u001b[0m \u001b[0mcreate_file_df\u001b[0m\u001b[0;34m(\u001b[0m\u001b[0mjsons\u001b[0m\u001b[0;34m)\u001b[0m\u001b[0;34m\u001b[0m\u001b[0;34m\u001b[0m\u001b[0m\n\u001b[0m",
      "\u001b[0;32m<ipython-input-168-2b0536ff88c6>\u001b[0m in \u001b[0;36mcreate_file_df\u001b[0;34m(json_list)\u001b[0m\n\u001b[1;32m      9\u001b[0m \u001b[0;34m\u001b[0m\u001b[0m\n\u001b[1;32m     10\u001b[0m         \u001b[0mfile_name\u001b[0m \u001b[0;34m=\u001b[0m \u001b[0mos\u001b[0m\u001b[0;34m.\u001b[0m\u001b[0mpath\u001b[0m\u001b[0;34m.\u001b[0m\u001b[0mbasename\u001b[0m\u001b[0;34m(\u001b[0m\u001b[0mi\u001b[0m\u001b[0;34m)\u001b[0m\u001b[0;34m\u001b[0m\u001b[0;34m\u001b[0m\u001b[0m\n\u001b[0;32m---> 11\u001b[0;31m         \u001b[0mfile_repository\u001b[0m\u001b[0;34m,\u001b[0m \u001b[0mfile_version\u001b[0m \u001b[0;34m=\u001b[0m \u001b[0mfile_name\u001b[0m\u001b[0;34m.\u001b[0m\u001b[0msplit\u001b[0m\u001b[0;34m(\u001b[0m\u001b[0;34mr\"fga-eps-mds-2020_2-(.*?)-(.*?).json\"\u001b[0m\u001b[0;34m)\u001b[0m\u001b[0;34m\u001b[0m\u001b[0;34m\u001b[0m\u001b[0m\n\u001b[0m\u001b[1;32m     12\u001b[0m         \u001b[0mfile_lenguage\u001b[0m \u001b[0;34m=\u001b[0m \u001b[0mrepos_lenguage\u001b[0m\u001b[0;34m[\u001b[0m\u001b[0;34mf\"{files_repository}\"\u001b[0m\u001b[0;34m]\u001b[0m\u001b[0;34m\u001b[0m\u001b[0;34m\u001b[0m\u001b[0m\n\u001b[1;32m     13\u001b[0m \u001b[0;34m\u001b[0m\u001b[0m\n",
      "\u001b[0;31mValueError\u001b[0m: not enough values to unpack (expected 2, got 1)"
     ]
    }
   ],
   "source": [
    "file_component_df = create_file_df(jsons)"
   ]
  },
  {
   "cell_type": "code",
   "execution_count": null,
   "metadata": {},
   "outputs": [],
   "source": [
    "file_component_df.filename.unique()"
   ]
  },
  {
   "cell_type": "code",
   "execution_count": null,
   "metadata": {},
   "outputs": [],
   "source": [
    "file_component_df.head(10)"
   ]
  },
  {
   "cell_type": "code",
   "execution_count": null,
   "metadata": {},
   "outputs": [],
   "source": [
    "file_component_df.to_excel('data/data.xlsx', index = False)"
   ]
  },
  {
   "cell_type": "code",
   "execution_count": null,
   "metadata": {},
   "outputs": [],
   "source": [
    "file_component_df.repository.unique()"
   ]
  },
  {
   "cell_type": "markdown",
   "metadata": {},
   "source": [
    "#### Create dataframe per repository"
   ]
  },
  {
   "cell_type": "code",
   "execution_count": null,
   "metadata": {},
   "outputs": [],
   "source": [
    "repository_dataframes = {} \n",
    "\n",
    "for repository in repos:\n",
    "    df = file_component_df[file_component_df['repository'] == f\"{repository}\"]\n",
    "    df.name = f\"{repository}\"\n",
    "    repository_dataframes[f\"{repository}\"] = df\n",
    "    \n",
    "repository_dataframes.keys()"
   ]
  },
  {
   "cell_type": "code",
   "execution_count": null,
   "metadata": {},
   "outputs": [],
   "source": [
    "repository_dataframes[\"etl_tse\"]"
   ]
  },
  {
   "cell_type": "markdown",
   "metadata": {},
   "source": [
    "### Metric calculations"
   ]
  },
  {
   "cell_type": "markdown",
   "metadata": {},
   "source": [
    "##### COMPLEXITY"
   ]
  },
  {
   "cell_type": "code",
   "execution_count": null,
   "metadata": {},
   "outputs": [],
   "source": [
    "def m1(df):\n",
    "    \n",
    "    density_non_complex_files = len(df[(df['complexity'].astype(float)/df['functions'].astype(float)) < 10])/len(df)\n",
    "    \n",
    "    return density_non_complex_files"
   ]
  },
  {
   "cell_type": "markdown",
   "metadata": {},
   "source": [
    "##### COMMENTS"
   ]
  },
  {
   "cell_type": "code",
   "execution_count": null,
   "metadata": {},
   "outputs": [],
   "source": [
    "def m2(df):\n",
    "    \n",
    "    density_comment_files = len(df[(df['comment_lines_density'].astype(float) > 10) & (df['comment_lines_density'].astype(float) < 30)])/len(df)\n",
    "    \n",
    "    return density_comment_files"
   ]
  },
  {
   "cell_type": "markdown",
   "metadata": {},
   "source": [
    "##### DUPLICATIONS"
   ]
  },
  {
   "cell_type": "code",
   "execution_count": null,
   "metadata": {},
   "outputs": [],
   "source": [
    "def m3(df):\n",
    "    \n",
    "    duplication = len(df[(df['duplicated_lines_density'].astype(float) < 5)])/len(df)\n",
    "    \n",
    "    return duplication"
   ]
  },
  {
   "cell_type": "markdown",
   "metadata": {},
   "source": [
    "### Calculate m1, m2 and m3 for each repository"
   ]
  },
  {
   "cell_type": "code",
   "execution_count": null,
   "metadata": {},
   "outputs": [],
   "source": [
    "def create_metrics_df(df):\n",
    "    \n",
    "    version_vec = df['version'].unique()\n",
    "    \n",
    "    m1_list = []\n",
    "    m2_list = []\n",
    "    m3_list = []\n",
    "    repository_list = []\n",
    "    version_list = []\n",
    "    \n",
    "    metrics_df = pd.DataFrame()\n",
    "    \n",
    "    for version in version_vec:\n",
    "\n",
    "        version_df = df[df['version'] == version]\n",
    "\n",
    "        m1_list.append(m1(version_df))\n",
    "        m2_list.append(m2(version_df))\n",
    "        m3_list.append(m3(version_df))\n",
    "        repository_list.append(version_df['repository'].iloc[0])\n",
    "        version_list.append(version)\n",
    "        \n",
    "    metrics_df = pd.DataFrame({'m1': m1_list,\n",
    "                               'm2': m2_list,\n",
    "                               'm3': m3_list,\n",
    "                               'repository': repository_list, \n",
    "                               'version': version_list})\n",
    "        \n",
    "    return metrics_df"
   ]
  },
  {
   "cell_type": "code",
   "execution_count": null,
   "metadata": {},
   "outputs": [],
   "source": [
    "repository_metrics = {}\n",
    "\n",
    "for repository, repo_df in repository_dataframes.items():   \n",
    "    metrics_df = create_metrics_df(repo_df)\n",
    "    metrics_df.name = f\"{repository}\"\n",
    "    repository_metrics[f\"{repository}\"] = metrics_df\n"
   ]
  },
  {
   "cell_type": "markdown",
   "metadata": {},
   "source": [
    "### Data visualization\n",
    "\n",
    "- You must do this for each of your repositories"
   ]
  },
  {
   "cell_type": "code",
   "execution_count": null,
   "metadata": {},
   "outputs": [],
   "source": [
    "for repository, metrics_df in repository_metrics.items(): \n",
    "    fig = plt.figure(figsize=(20, 10))\n",
    "    plt.title(f\"{repository}\")\n",
    "    plt.plot(metrics_df['m1'], linewidth=3, marker='o', markersize=10)"
   ]
  },
  {
   "cell_type": "code",
   "execution_count": null,
   "metadata": {},
   "outputs": [],
   "source": [
    "for repository, metrics_df in repository_metrics.items(): \n",
    "    fig = plt.figure(figsize=(20, 10))\n",
    "    plt.title(f\"{repository}\")\n",
    "    plt.plot(metrics_df['m2'], linewidth=3, marker='o', markersize=10)"
   ]
  },
  {
   "cell_type": "code",
   "execution_count": null,
   "metadata": {},
   "outputs": [],
   "source": [
    "for repository, metrics_df in repository_metrics.items(): \n",
    "    fig = plt.figure(figsize=(20, 10))\n",
    "    plt.title(f\"{repository}\")\n",
    "    plt.plot(metrics_df['m3'], linewidth=3, marker='o', markersize=10)"
   ]
  },
  {
   "cell_type": "code",
   "execution_count": null,
   "metadata": {},
   "outputs": [],
   "source": [
    "fig = plt.figure(figsize=(20, 10))\n",
    "\n",
    "plt.plot(repo1['m1'], linewidth=3, marker='o', markersize=10)"
   ]
  },
  {
   "cell_type": "code",
   "execution_count": null,
   "metadata": {},
   "outputs": [],
   "source": [
    "fig = plt.figure(figsize=(20, 10))\n",
    "\n",
    "plt.plot(repo1['m2'], linewidth=3, marker='o', markersize=10)"
   ]
  },
  {
   "cell_type": "code",
   "execution_count": null,
   "metadata": {},
   "outputs": [],
   "source": [
    "fig = plt.figure(figsize=(20, 10))\n",
    "\n",
    "plt.plot(repo1['m3'], linewidth=3, marker='o', markersize=10)"
   ]
  },
  {
   "cell_type": "code",
   "execution_count": null,
   "metadata": {},
   "outputs": [],
   "source": [
    "fig = plt.figure(figsize=(20, 10))\n",
    "\n",
    "plt.plot(repo1['m1'], linewidth=3, marker='o', markersize=10)\n",
    "plt.plot(repo1['m2'], linewidth=3, marker='o', markersize=10)\n",
    "plt.plot(repo1['m3'], linewidth=3, marker='o', markersize=10)"
   ]
  },
  {
   "cell_type": "markdown",
   "metadata": {},
   "source": [
    "### Sub characteristic aggregation\n",
    "\n",
    "- You must do this for each of your repositories"
   ]
  },
  {
   "cell_type": "code",
   "execution_count": null,
   "metadata": {},
   "outputs": [],
   "source": [
    "psc1 = 1\n",
    "pm1 = 0.33\n",
    "pm2 = 0.33\n",
    "pm3 = 0.33\n",
    "\n",
    "repo1['asc1'] = ((repo1['m1']*pm1)+(repo1['m2']*pm2)+(repo1['m3']*pm3))*psc1\n",
    "repo2['asc1'] = ((repo2['m1']*pm1)+(repo2['m2']*pm2)+(repo2['m3']*pm3))*psc1\n",
    "..."
   ]
  },
  {
   "cell_type": "code",
   "execution_count": null,
   "metadata": {},
   "outputs": [],
   "source": [
    "fig = plt.figure(figsize=(20, 10))\n",
    "\n",
    "plt.plot(repo1['asc1'], linewidth=3, marker='o', markersize=10)"
   ]
  },
  {
   "cell_type": "code",
   "execution_count": null,
   "metadata": {},
   "outputs": [],
   "source": [
    "fig = plt.figure(figsize=(20, 10))\n",
    "\n",
    "plt.plot(repo2['asc1'], linewidth=3, marker='o', markersize=10)"
   ]
  },
  {
   "cell_type": "code",
   "execution_count": null,
   "metadata": {},
   "outputs": [],
   "source": [
    "fig = plt.figure(figsize=(20, 10))\n",
    "\n",
    "\n",
    "plt.plot(repo1['asc1'], linewidth=3, marker='o', markersize=5)\n",
    "plt.plot(repo2['asc1'], linewidth=3, marker='o', markersize=5)\n",
    "..."
   ]
  },
  {
   "cell_type": "code",
   "execution_count": null,
   "metadata": {},
   "outputs": [],
   "source": [
    "metrics_df = pd.concat([repo1_metrics, repo2_metrics, ...], ignore_index=True)\n",
    "\n",
    "metrics_df['ac1'] = metrics_df['asc1'] * 1\n",
    "metrics_df['total'] = metrics_df['asc1'] * 1"
   ]
  },
  {
   "cell_type": "code",
   "execution_count": null,
   "metadata": {},
   "outputs": [],
   "source": [
    "metrics_df"
   ]
  },
  {
   "cell_type": "code",
   "execution_count": null,
   "metadata": {},
   "outputs": [],
   "source": [
    "metrics_df.to_excel('data/metrics_df.xlsx', index = False)"
   ]
  }
 ],
 "metadata": {
  "kernelspec": {
   "display_name": "Python 3",
   "language": "python",
   "name": "python3"
  },
  "language_info": {
   "codemirror_mode": {
    "name": "ipython",
    "version": 3
   },
   "file_extension": ".py",
   "mimetype": "text/x-python",
   "name": "python",
   "nbconvert_exporter": "python",
   "pygments_lexer": "ipython3",
   "version": "3.8.8"
  }
 },
 "nbformat": 4,
 "nbformat_minor": 4
}
